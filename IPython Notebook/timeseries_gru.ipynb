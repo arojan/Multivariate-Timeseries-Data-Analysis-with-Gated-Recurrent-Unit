{
 "cells": [
  {
   "cell_type": "code",
   "execution_count": 1,
   "metadata": {},
   "outputs": [],
   "source": [
    "# Disabling any minor warmings and logs\n",
    "import warnings\n",
    "warnings.filterwarnings(\"ignore\")"
   ]
  },
  {
   "cell_type": "code",
   "execution_count": 2,
   "metadata": {},
   "outputs": [
    {
     "name": "stderr",
     "output_type": "stream",
     "text": [
      "Using TensorFlow backend.\n"
     ]
    }
   ],
   "source": [
    "# Importing necessary libraries\n",
    "import h5py\n",
    "import numpy as np\n",
    "from numpy import concatenate\n",
    "\n",
    "import pandas as pd\n",
    "from pandas import read_csv, concat, DataFrame\n",
    "\n",
    "from matplotlib import pyplot\n",
    "from datetime import datetime\n",
    "\n",
    "from sklearn.preprocessing import MinMaxScaler\n",
    "from sklearn.model_selection import train_test_split\n",
    "from sklearn.metrics import mean_squared_error\n",
    "\n",
    "from keras.models import Sequential \n",
    "from keras.layers import Dense, Dropout, GRU"
   ]
  },
  {
   "cell_type": "code",
   "execution_count": 3,
   "metadata": {},
   "outputs": [],
   "source": [
    "# Importing the dataset along with some changes\n",
    "data = read_csv(\"Dataset/household_power_consumption.csv\",\n",
    "                   parse_dates={'dt' : ['Date', 'Time']},\n",
    "                   infer_datetime_format=True, \n",
    "                   index_col= 0,\n",
    "                   na_values=['nan', '?'])"
   ]
  },
  {
   "cell_type": "code",
   "execution_count": 4,
   "metadata": {},
   "outputs": [],
   "source": [
    "# Replacing the '?' median of the data\n",
    "median_value = data.median()\n",
    "data = data.fillna(median_value)\n",
    "\n",
    "# Ensuring all dataset is in float\n",
    "values = data.values\n",
    "values = values.astype('float32')"
   ]
  },
  {
   "cell_type": "code",
   "execution_count": 5,
   "metadata": {},
   "outputs": [],
   "source": [
    "# normalizing input features\n",
    "scaler = MinMaxScaler(feature_range=(-1, 1))\n",
    "scaled = scaler.fit_transform(values)\n",
    "scaled = pd.DataFrame(scaled)"
   ]
  },
  {
   "cell_type": "code",
   "execution_count": 6,
   "metadata": {},
   "outputs": [],
   "source": [
    "# Creating a timeseries function to convert the timeseries dataset\n",
    "def timeseries_data(data, lookback=1, predicted_col=1):\n",
    "    temp=data.copy()\n",
    "    temp[\"id\"]= range(1, len(temp)+1)\n",
    "    temp = temp.iloc[:-lookback, :]\n",
    "    temp.set_index('id', inplace =True)\n",
    "    \n",
    "    predicted_value=data.copy()\n",
    "    predicted_value = predicted_value.iloc[lookback:,predicted_col]\n",
    "    predicted_value.columns=[\"Predicted\"]\n",
    "    predicted_value= pd.DataFrame(predicted_value)\n",
    "    \n",
    "    predicted_value[\"id\"]= range(1, len(predicted_value)+1)\n",
    "    predicted_value.set_index('id', inplace =True)\n",
    "    final_df= pd.concat([temp, predicted_value], axis=1)\n",
    "    return final_df"
   ]
  },
  {
   "cell_type": "code",
   "execution_count": 7,
   "metadata": {},
   "outputs": [],
   "source": [
    "# Reframing the dataset\n",
    "reframed_df= timeseries_data(scaled, 1,0)\n",
    "reframed_df.fillna(0, inplace=True)\n",
    "reframed_df.columns = ['var1(t-1)', 'var2(t-1)', 'var3(t-1)', 'var4(t-1)', 'var5(t-1)', 'var6(t-1)', 'var7(t-1)','var1(t)']"
   ]
  },
  {
   "cell_type": "code",
   "execution_count": 8,
   "metadata": {},
   "outputs": [],
   "source": [
    "# Spliting the dataset into train and test sets\n",
    "values = reframed_df.values\n",
    "train_ = values[:, :-1]\n",
    "labels = values[:, -1]\n",
    "train_X, test_X, train_y, test_y = train_test_split(train_, labels, test_size=0.27, random_state=0)"
   ]
  },
  {
   "cell_type": "code",
   "execution_count": 9,
   "metadata": {},
   "outputs": [],
   "source": [
    "# Reshaping input to be 3D [samples, time steps, features]\n",
    "train_X = train_X.reshape((train_X.shape[0], 1, train_X.shape[1]))\n",
    "test_X = test_X.reshape((test_X.shape[0], 1, test_X.shape[1]))"
   ]
  },
  {
   "cell_type": "code",
   "execution_count": 10,
   "metadata": {},
   "outputs": [
    {
     "name": "stderr",
     "output_type": "stream",
     "text": [
      "WARNING: Logging before flag parsing goes to stderr.\n",
      "W0830 15:10:56.640005 139726525191808 deprecation_wrapper.py:119] From /usr/lib/python3.7/site-packages/keras/backend/tensorflow_backend.py:66: The name tf.get_default_graph is deprecated. Please use tf.compat.v1.get_default_graph instead.\n",
      "\n",
      "W0830 15:10:56.665843 139726525191808 deprecation_wrapper.py:119] From /usr/lib/python3.7/site-packages/keras/backend/tensorflow_backend.py:541: The name tf.placeholder is deprecated. Please use tf.compat.v1.placeholder instead.\n",
      "\n",
      "W0830 15:10:56.669766 139726525191808 deprecation_wrapper.py:119] From /usr/lib/python3.7/site-packages/keras/backend/tensorflow_backend.py:4432: The name tf.random_uniform is deprecated. Please use tf.random.uniform instead.\n",
      "\n",
      "W0830 15:10:56.902451 139726525191808 deprecation_wrapper.py:119] From /usr/lib/python3.7/site-packages/keras/backend/tensorflow_backend.py:148: The name tf.placeholder_with_default is deprecated. Please use tf.compat.v1.placeholder_with_default instead.\n",
      "\n",
      "W0830 15:10:56.915205 139726525191808 deprecation.py:506] From /usr/lib/python3.7/site-packages/keras/backend/tensorflow_backend.py:3733: calling dropout (from tensorflow.python.ops.nn_ops) with keep_prob is deprecated and will be removed in a future version.\n",
      "Instructions for updating:\n",
      "Please use `rate` instead of `keep_prob`. Rate should be set to `rate = 1 - keep_prob`.\n",
      "W0830 15:10:57.176998 139726525191808 deprecation_wrapper.py:119] From /usr/lib/python3.7/site-packages/keras/optimizers.py:793: The name tf.train.Optimizer is deprecated. Please use tf.compat.v1.train.Optimizer instead.\n",
      "\n"
     ]
    },
    {
     "name": "stdout",
     "output_type": "stream",
     "text": [
      "Model: \"sequential_1\"\n",
      "_________________________________________________________________\n",
      "Layer (type)                 Output Shape              Param #   \n",
      "=================================================================\n",
      "gru_1 (GRU)                  (None, 1, 20)             1680      \n",
      "_________________________________________________________________\n",
      "dropout_1 (Dropout)          (None, 1, 20)             0         \n",
      "_________________________________________________________________\n",
      "gru_2 (GRU)                  (None, 40)                7320      \n",
      "_________________________________________________________________\n",
      "dropout_2 (Dropout)          (None, 40)                0         \n",
      "_________________________________________________________________\n",
      "dense_1 (Dense)              (None, 1)                 41        \n",
      "=================================================================\n",
      "Total params: 9,041\n",
      "Trainable params: 9,041\n",
      "Non-trainable params: 0\n",
      "_________________________________________________________________\n"
     ]
    }
   ],
   "source": [
    "batch_size = 100\n",
    "epochs = 15\n",
    "\n",
    "# Creating a model out of a sequential model and appending the LSTM layers for timeseries computations\n",
    "model = Sequential()\n",
    "model.add(GRU(20, input_shape=(train_X.shape[1], train_X.shape[2]), return_sequences=True))\n",
    "model.add(Dropout(0.01))\n",
    "model.add(GRU(40))\n",
    "model.add(Dropout(0.01))\n",
    "model.add(Dense(1))\n",
    "model.compile(loss='mean_squared_error', optimizer='adam')\n",
    "\n",
    "# Printing the model summary including parameters of the designed network\n",
    "model.summary()"
   ]
  },
  {
   "cell_type": "code",
   "execution_count": 11,
   "metadata": {
    "scrolled": true
   },
   "outputs": [
    {
     "name": "stderr",
     "output_type": "stream",
     "text": [
      "W0830 15:10:57.636041 139726525191808 deprecation.py:323] From /usr/lib/python3.7/site-packages/tensorflow/python/ops/math_grad.py:1250: add_dispatch_support.<locals>.wrapper (from tensorflow.python.ops.array_ops) is deprecated and will be removed in a future version.\n",
      "Instructions for updating:\n",
      "Use tf.where in 2.0, which has the same broadcast rule as np.where\n",
      "W0830 15:10:58.591760 139726525191808 deprecation_wrapper.py:119] From /usr/lib/python3.7/site-packages/keras/backend/tensorflow_backend.py:1033: The name tf.assign_add is deprecated. Please use tf.compat.v1.assign_add instead.\n",
      "\n"
     ]
    },
    {
     "name": "stdout",
     "output_type": "stream",
     "text": [
      "Train on 1514938 samples, validate on 560320 samples\n",
      "Epoch 1/15\n",
      "1514938/1514938 [==============================] - 58s 38us/step - loss: 0.0035 - val_loss: 0.0023\n",
      "Epoch 2/15\n",
      "1514938/1514938 [==============================] - 54s 35us/step - loss: 0.0023 - val_loss: 0.0023\n",
      "Epoch 3/15\n",
      "1514938/1514938 [==============================] - 59s 39us/step - loss: 0.0023 - val_loss: 0.0024\n",
      "Epoch 4/15\n",
      "1514938/1514938 [==============================] - 59s 39us/step - loss: 0.0023 - val_loss: 0.0023\n",
      "Epoch 5/15\n",
      "1514938/1514938 [==============================] - 56s 37us/step - loss: 0.0023 - val_loss: 0.0023\n",
      "Epoch 6/15\n",
      "1514938/1514938 [==============================] - 60s 39us/step - loss: 0.0023 - val_loss: 0.0023\n",
      "Epoch 7/15\n",
      "1514938/1514938 [==============================] - 51s 34us/step - loss: 0.0023 - val_loss: 0.0023\n",
      "Epoch 8/15\n",
      "1514938/1514938 [==============================] - 49s 32us/step - loss: 0.0023 - val_loss: 0.0023\n",
      "Epoch 9/15\n",
      "1514938/1514938 [==============================] - 63s 41us/step - loss: 0.0023 - val_loss: 0.0023\n",
      "Epoch 10/15\n",
      "1514938/1514938 [==============================] - 53s 35us/step - loss: 0.0022 - val_loss: 0.0023\n",
      "Epoch 11/15\n",
      "1514938/1514938 [==============================] - 59s 39us/step - loss: 0.0022 - val_loss: 0.0023\n",
      "Epoch 12/15\n",
      "1514938/1514938 [==============================] - 52s 34us/step - loss: 0.0022 - val_loss: 0.0023\n",
      "Epoch 13/15\n",
      "1514938/1514938 [==============================] - 49s 33us/step - loss: 0.0022 - val_loss: 0.0023\n",
      "Epoch 14/15\n",
      "1514938/1514938 [==============================] - 49s 32us/step - loss: 0.0022 - val_loss: 0.0023\n",
      "Epoch 15/15\n",
      "1514938/1514938 [==============================] - 60s 40us/step - loss: 0.0022 - val_loss: 0.0022\n"
     ]
    }
   ],
   "source": [
    "# Training the model\n",
    "model_ = model.fit(train_X, train_y, epochs=epochs, batch_size=batch_size, verbose=1, \n",
    "                   validation_data=(test_X, test_y), shuffle=False)"
   ]
  },
  {
   "cell_type": "code",
   "execution_count": 12,
   "metadata": {},
   "outputs": [
    {
     "name": "stdout",
     "output_type": "stream",
     "text": [
      "Final model saved successfully!\n"
     ]
    }
   ],
   "source": [
    "# Saving the final model at the end of the training\n",
    "model.save(\"Model/model.hdf5\")\n",
    "print(\"Final model saved successfully!\")"
   ]
  },
  {
   "cell_type": "code",
   "execution_count": 13,
   "metadata": {},
   "outputs": [
    {
     "data": {
      "image/png": "[encoded data removed]",
      "text/plain": [
       "<Figure size 432x288 with 1 Axes>"
      ]
     },
     "metadata": {
      "needs_background": "light"
     },
     "output_type": "display_data"
    }
   ],
   "source": [
    "# Plotting/saving the graph on the loss and validation loss of the model throughout the training process\n",
    "pyplot.plot(model_.history['loss'], label='LSTM training', color='red')\n",
    "pyplot.plot(model_.history['val_loss'], label='LSTM testing', color= 'blue')\n",
    "pyplot.xlabel('Number of epochs')\n",
    "pyplot.ylabel('Loss Metrics')\n",
    "pyplot.title('Loss vs Validation Loss Chart')\n",
    "pyplot.legend()\n",
    "pyplot.savefig(fname='Graph/loss chart.png', dpi = 350)\n",
    "pyplot.show()"
   ]
  }
 ],
 "metadata": {
  "kernelspec": {
   "display_name": "Python 3",
   "language": "python",
   "name": "python3"
  },
  "language_info": {
   "codemirror_mode": {
    "name": "ipython",
    "version": 3
   },
   "file_extension": ".py",
   "mimetype": "text/x-python",
   "name": "python",
   "nbconvert_exporter": "python",
   "pygments_lexer": "ipython3",
   "version": "3.7.4"
  }
 },
 "nbformat": 4,
 "nbformat_minor": 2
}
